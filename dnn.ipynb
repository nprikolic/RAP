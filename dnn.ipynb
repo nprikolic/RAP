{
 "cells": [
  {
   "cell_type": "code",
   "execution_count": null,
   "id": "b7425a80",
   "metadata": {},
   "outputs": [],
   "source": [
    "import matplotlib.pyplot as plt\n",
    "import numpy as np\n",
    "import pandas as pd\n",
    "import seaborn as sns\n",
    "from keras.callbacks import EarlyStopping\n",
    "from keras.utils.vis_utils import plot_model\n",
    "from sklearn.metrics import r2_score\n",
    "import tensorflow as tf\n",
    "from tensorflow import keras\n",
    "from tensorflow.keras import layers\n",
    "from tensorflow.keras.constraints import max_norm\n",
    "from keras import backend as K\n",
    "from scipy import interpolate\n",
    "\n",
    "np.set_printoptions(precision=3, suppress=True)\n",
    "\n",
    "def coeff_determination(y_true, y_pred):\n",
    "    SS_res =  K.sum(K.square( y_true-y_pred )) \n",
    "    SS_tot = K.sum(K.square( y_true - K.mean(y_true) ) ) \n",
    "    return ( 1 - SS_res/(SS_tot + K.epsilon()) )\n",
    "\n",
    "def build_and_compile_model(norm):\n",
    "    \n",
    "  model = keras.Sequential([\n",
    "\n",
    "      norm,\n",
    "      layers.Dropout(.3),      \n",
    "      layers.Dense(64, activation='relu'),\n",
    "      layers.Dropout(.2),\n",
    "      layers.Dense(64, activation='relu'),\n",
    "      layers.Dropout(.2),\n",
    "      layers.Dense(1, kernel_constraint=tf.keras.constraints.NonNeg())\n",
    "      \n",
    "  ])\n",
    "  \n",
    "  model.compile(loss='mean_squared_error',\n",
    "                optimizer=tf.keras.optimizers.Adam(0.001),\n",
    "                metrics=[coeff_determination])\n",
    "  return model"
   ]
  },
  {
   "cell_type": "code",
   "execution_count": null,
   "id": "e48776a0",
   "metadata": {},
   "outputs": [],
   "source": [
    "raw_dataset=pd.read_excel(\"input.xlsx\", sheet_name=\"rilem\")\n",
    "dataset=raw_dataset.copy()\n",
    "df_master=pd.read_excel(\"input.xlsx\", sheet_name=\"master(av_correct)\")\n",
    "\n",
    "promenljive=[\"Temperature (°C)\", \"Air voids (%) \", \"ITS (MPa)\", \"Binder content (%)\"]\n",
    "dataset=dataset[promenljive]\n",
    "df_master=df_master[promenljive]\n",
    "\n",
    "\n",
    "train_dataset=dataset\n",
    "test_dataset=df_master\n",
    "\n",
    "train_features = train_dataset.copy()\n",
    "test_features = test_dataset.copy()\n",
    "\n",
    "train_labels = train_features.pop(\"ITS (MPa)\")\n",
    "test_labels = test_features.pop(\"ITS (MPa)\")\n",
    "\n",
    "normalizer = tf.keras.layers.experimental.preprocessing.Normalization(axis=-1)\n",
    "normalizer.adapt(np.array(train_features))\n",
    "first=np.array(train_features[:1])\n",
    "\n",
    "#---------#\n",
    "\n",
    "dnn_model = build_and_compile_model(normalizer)"
   ]
  },
  {
   "cell_type": "code",
   "execution_count": null,
   "id": "a8bf0fc6",
   "metadata": {},
   "outputs": [],
   "source": [
    "%%time\n",
    "es = EarlyStopping(monitor='val_loss', mode='min', verbose=1,patience=100)\n",
    "history = dnn_model.fit(\n",
    "    train_features,\n",
    "    train_labels,\n",
    "    validation_data=(test_features,test_labels),\n",
    "    verbose=0, epochs=49, callbacks=[es])"
   ]
  },
  {
   "cell_type": "code",
   "execution_count": null,
   "id": "886157a8",
   "metadata": {},
   "outputs": [],
   "source": [
    "test_predictions = dnn_model.predict(test_features).flatten()\n",
    "train_preditions = dnn_model.predict(train_features).flatten()\n",
    "\n",
    "print(r2_score(test_labels, test_predictions),\"za validaciju\")\n",
    "print(r2_score(train_labels, train_preditions),\"za trening\")"
   ]
  },
  {
   "cell_type": "code",
   "execution_count": null,
   "id": "c631fd4d",
   "metadata": {},
   "outputs": [],
   "source": [
    "plt.figure(figsize=(9,3))\n",
    "sns.set(rc={\"figure.dpi\":300, 'savefig.dpi':300},font=\"Times New Roman\")\n",
    "\n",
    "x=[]\n",
    "for i in range(len(history.history['val_loss'])):\n",
    "    x.append(i)\n",
    "\n",
    "sns.lineplot(x=x,y=history.history['loss'], label='Сет за обучавање')\n",
    "sns.lineplot(x=x,y=history.history['val_loss'], label='Сет за валидацију')\n",
    "plt.ylim([0, 1])\n",
    "plt.xlim([0, 49])\n",
    "plt.xlabel('Епоха')\n",
    "plt.ylabel('Грешка [ITS]')"
   ]
  },
  {
   "cell_type": "code",
   "execution_count": null,
   "id": "1e874818",
   "metadata": {},
   "outputs": [],
   "source": [
    "min(history.history['loss'])"
   ]
  },
  {
   "cell_type": "code",
   "execution_count": null,
   "id": "c906d107",
   "metadata": {},
   "outputs": [],
   "source": [
    "test_results = {}\n",
    "test_results['dnn_model'] = dnn_model.evaluate(test_features, test_labels, verbose=0)\n",
    "#print(test_results)"
   ]
  },
  {
   "cell_type": "code",
   "execution_count": null,
   "id": "a0625935",
   "metadata": {},
   "outputs": [],
   "source": [
    "#pd.DataFrame(test_results, index=['Mean squared error [ITS]',\"Rsq\"]).T"
   ]
  },
  {
   "cell_type": "code",
   "execution_count": null,
   "id": "32573ab5",
   "metadata": {
    "scrolled": true
   },
   "outputs": [],
   "source": [
    "plt.figure(figsize=(5,5))\n",
    "sns.set(rc={\"figure.dpi\":300, 'savefig.dpi':300},font=\"Times New Roman\")\n",
    "\n",
    "sns.scatterplot(x=test_labels, y=test_predictions, marker=\"X\", color=sns.color_palette(\"deep\")[1], s=100)\n",
    "plt.plot([.4,1.6],[.4,1.6], lw=1,linestyle='dashed')\n",
    "\n",
    "plt.xlabel('Оригиналне вредности ITS-а [MPa]')\n",
    "plt.ylabel('Прогнозиране вредности ITS-а [MPa]')\n",
    "lims = [.4, 1.6]\n",
    "plt.xlim(lims)\n",
    "plt.ylim(lims)\n",
    "plt.legend(loc='upper left')\n"
   ]
  },
  {
   "cell_type": "code",
   "execution_count": null,
   "id": "4d225494",
   "metadata": {},
   "outputs": [],
   "source": [
    "plt.figure(figsize=(5,5))\n",
    "sns.set(rc={\"figure.dpi\":300, 'savefig.dpi':300},font=\"Times New Roman\")\n",
    "\n",
    "sns.kdeplot(x=test_labels, y=test_predictions, shade=True)\n",
    "sns.scatterplot(x=test_labels, y=test_predictions, marker=\"X\", color=sns.color_palette(\"deep\")[1], s=100)\n",
    "plt.plot([.4,1.6],[.4,1.6], lw=1,linestyle='dashed')\n",
    "\n",
    "plt.xlabel('Измерене вредности ITS-а [MPa]')\n",
    "plt.ylabel('Процењене вредности ITS-а [MPa]')\n",
    "lims = [.4, 1.6]\n",
    "plt.xlim(lims)\n",
    "plt.ylim(lims)\n",
    "\n",
    "plt.title(\"r2=0.92\", loc=\"right\")"
   ]
  },
  {
   "cell_type": "code",
   "execution_count": null,
   "id": "bb065f71",
   "metadata": {},
   "outputs": [],
   "source": [
    "df_master[\"ITS - Predicted [MPa]\"]=(test_predictions)\n",
    "#df_master.to_excel(\"rezultat master validacije.xlsx\")\n",
    "ab_master=df_master.iloc[0:4]\n",
    "sma_master=df_master.iloc[4:8]\n",
    "bns_master=df_master.iloc[8:12]"
   ]
  },
  {
   "cell_type": "code",
   "execution_count": null,
   "id": "0bf308ec",
   "metadata": {},
   "outputs": [],
   "source": [
    "a=abs(test_labels-test_predictions)"
   ]
  },
  {
   "cell_type": "code",
   "execution_count": null,
   "id": "6cf8c7bd",
   "metadata": {},
   "outputs": [],
   "source": [
    "a.mean()"
   ]
  },
  {
   "cell_type": "code",
   "execution_count": null,
   "id": "9c7d1b3f",
   "metadata": {},
   "outputs": [],
   "source": [
    "test_labels.mean()"
   ]
  },
  {
   "cell_type": "code",
   "execution_count": null,
   "id": "9a941196",
   "metadata": {},
   "outputs": [],
   "source": [
    "a.mean()/test_labels.mean()"
   ]
  },
  {
   "cell_type": "code",
   "execution_count": null,
   "id": "404336ef",
   "metadata": {},
   "outputs": [],
   "source": [
    "import shap\n",
    "# explain the model's predictions using SHAP\n",
    "explainer = shap.TreeExplainer(dnn_model)\n",
    "shap_values = explainer.shap_values(train_features)\n",
    "\n",
    "# visualize the first prediction's explanation \n",
    "shap.initjs()\n",
    "shap.force_plot(explainer.expected_value, shap_values[0,:], X_train.iloc[0,:])"
   ]
  },
  {
   "cell_type": "code",
   "execution_count": null,
   "id": "ba2cec0e",
   "metadata": {},
   "outputs": [],
   "source": [
    "from sklearn.ensemble import RandomForestRegressor\n",
    "model = RandomForestRegressor(max_depth=6, random_state=0, n_estimators=10)\n",
    "model.fit(train_features, train_labels)"
   ]
  },
  {
   "cell_type": "code",
   "execution_count": null,
   "id": "c8c0dab6",
   "metadata": {},
   "outputs": [],
   "source": [
    "explainer = shap.TreeExplainer(model)\n",
    "shap_values = explainer.shap_values(train_features)\n",
    "\n",
    "# visualize the first prediction's explanation \n",
    "shap.initjs()\n",
    "shap.force_plot(explainer.expected_value, shap_values[0,:], train_features.iloc[0,:])"
   ]
  },
  {
   "cell_type": "code",
   "execution_count": null,
   "id": "d89854d0",
   "metadata": {},
   "outputs": [],
   "source": [
    "shap.force_plot(explainer.expected_value, shap_values, train_features)"
   ]
  },
  {
   "cell_type": "code",
   "execution_count": null,
   "id": "9d48304e",
   "metadata": {},
   "outputs": [],
   "source": [
    "plt.figure(figsize=(9,3))\n",
    "sns.set(rc={\"figure.dpi\":300, 'savefig.dpi':300},font=\"Times New Roman\")\n",
    "\n",
    "hap_values = shap.TreeExplainer(model).shap_values(train_features)\n",
    "shap.summary_plot(shap_values, train_features, plot_type=\"bar\")"
   ]
  },
  {
   "cell_type": "code",
   "execution_count": null,
   "id": "a90c7dcc",
   "metadata": {},
   "outputs": [],
   "source": [
    "plt.figure(figsize=(9, 10))\n",
    "sns.set(rc={\"figure.dpi\":300, 'savefig.dpi':300},font=\"Times New Roman\")\n",
    "\n",
    "shap.summary_plot(shap_values, train_features)"
   ]
  }
 ],
 "metadata": {
  "kernelspec": {
   "display_name": "Python 3 (ipykernel)",
   "language": "python",
   "name": "python3"
  },
  "language_info": {
   "codemirror_mode": {
    "name": "ipython",
    "version": 3
   },
   "file_extension": ".py",
   "mimetype": "text/x-python",
   "name": "python",
   "nbconvert_exporter": "python",
   "pygments_lexer": "ipython3",
   "version": "3.8.8"
  }
 },
 "nbformat": 4,
 "nbformat_minor": 5
}
